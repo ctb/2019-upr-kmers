{
 "cells": [
  {
   "cell_type": "markdown",
   "metadata": {},
   "source": [
    "# Subsample some sequence files"
   ]
  },
  {
   "cell_type": "code",
   "execution_count": 1,
   "metadata": {},
   "outputs": [],
   "source": [
    "import screed"
   ]
  },
  {
   "cell_type": "code",
   "execution_count": 3,
   "metadata": {},
   "outputs": [
    {
     "name": "stdout",
     "output_type": "stream",
     "text": [
      "  % Total    % Received % Xferd  Average Speed   Time    Time     Time  Current\n",
      "                                 Dload  Upload   Total   Spent    Left  Speed\n",
      "100   459  100   459    0     0    735      0 --:--:-- --:--:-- --:--:--   734\n",
      " 17 61.1M   17 11.0M    0     0  1530k      0  0:00:40  0:00:07  0:00:33 2010kx 2.fa\n",
      " 66 61.1M   66 40.7M    0     0  1523k      0  0:00:41  0:00:27  0:00:14 1528kx 47.fa\n",
      " 92 61.1M   92 56.6M    0     0  1438k      0  0:00:43  0:00:40  0:00:03 1360kx 63.fa\n",
      "100 61.1M  100 61.1M    0     0  1411k      0  0:00:44  0:00:44 --:--:-- 1146k\n"
     ]
    }
   ],
   "source": [
    "# download a bunch of genomes and extract two specific ones\n",
    "#!curl -L https://osf.io/8uxj9/?action=download | tar xvf - 2.fa 47.fa 63.fa"
   ]
  },
  {
   "cell_type": "code",
   "execution_count": 9,
   "metadata": {},
   "outputs": [],
   "source": [
    "!mkdir -p genomes/\n",
    "\n",
    "def get_500kb(filename):\n",
    "    total = 0\n",
    "    for record in screed.open(filename):\n",
    "        if len(record.sequence) > (5e5 - total):\n",
    "            yield record.name, record.sequence[:int(5e5-total)]\n",
    "            break\n",
    "        else:\n",
    "            yield record.name, record.sequence\n",
    "            total += len(record.sequence)\n",
    "\n",
    "with open('genomes/akkermansia.fa', 'wt') as fp:\n",
    "    for name, sequence in get_500kb('2.fa'):\n",
    "        fp.write('>{}\\n{}\\n'.format(name, sequence))\n",
    "        \n",
    "with open('genomes/shew_os185.fa', 'wt') as fp:\n",
    "    for name, sequence in get_500kb('47.fa'):\n",
    "        fp.write('>{}\\n{}\\n'.format(name, sequence))\n",
    "        \n",
    "with open('genomes/shew_os223.fa', 'wt') as fp:\n",
    "    for name, sequence in get_500kb('63.fa'):\n",
    "        fp.write('>{}\\n{}\\n'.format(name, sequence))"
   ]
  },
  {
   "cell_type": "code",
   "execution_count": 10,
   "metadata": {},
   "outputs": [
    {
     "name": "stdout",
     "output_type": "stream",
     "text": [
      "total 30712\r\n",
      "-rw-r--r--  1 t  staff  2702228 Jun 10  2017 2.fa\r\n",
      "-rw-r--r--  1 t  staff  5379451 Jun 10  2017 47.fa\r\n",
      "-rw-r--r--  1 t  staff  5426146 Jun 10  2017 63.fa\r\n",
      "-rw-r--r--  1 t  staff     1514 Feb 13 18:59 LICENSE\r\n",
      "-rw-r--r--  1 t  staff       16 Feb 13 18:59 README.md\r\n",
      "-rw-r--r--  1 t  staff   500067 Feb 14 06:33 akkermansia.fa\r\n",
      "-rw-r--r--  1 t  wheel      146 Feb 13 18:59 environment.yml\r\n",
      "drwxr-xr-x  5 t  staff      160 Feb 14 06:34 \u001b[34mgenomes\u001b[m\u001b[m/\r\n",
      "-rw-r--r--  1 t  staff     1140 Feb 13 19:12 index.ipynb\r\n",
      "-rw-r--r--  1 t  staff   500056 Feb 14 06:33 shew_os185.fa\r\n",
      "-rw-r--r--  1 t  staff   500056 Feb 14 06:33 shew_os223.fa\r\n",
      "-rw-r--r--  1 t  staff     2868 Feb 14 06:33 subsample.ipynb\r\n"
     ]
    }
   ],
   "source": [
    "ls -l"
   ]
  },
  {
   "cell_type": "code",
   "execution_count": null,
   "metadata": {},
   "outputs": [],
   "source": []
  }
 ],
 "metadata": {
  "kernelspec": {
   "display_name": "Python 3",
   "language": "python",
   "name": "python3"
  },
  "language_info": {
   "codemirror_mode": {
    "name": "ipython",
    "version": 3
   },
   "file_extension": ".py",
   "mimetype": "text/x-python",
   "name": "python",
   "nbconvert_exporter": "python",
   "pygments_lexer": "ipython3",
   "version": "3.6.7"
  }
 },
 "nbformat": 4,
 "nbformat_minor": 2
}
