{
 "cells": [
  {
   "cell_type": "markdown",
   "metadata": {},
   "source": [
    "## Compute scaled signatures"
   ]
  },
  {
   "cell_type": "code",
   "execution_count": 15,
   "metadata": {},
   "outputs": [
    {
     "name": "stdout",
     "output_type": "stream",
     "text": [
      "\u001b[K== This is sourmash version 2.0.0a12.dev48+ga92289b. ==\n",
      "\u001b[K== Please cite Brown and Irber (2016), doi:10.21105/joss.00027. ==\n",
      "\n",
      "\u001b[Ksetting num_hashes to 0 because --scaled is set\n",
      "\u001b[Kcomputing signatures for files: genomes/akkermansia.fa, genomes/shew_os185.fa, genomes/shew_os223.fa\n",
      "\u001b[KComputing signature for ksizes: [21, 31, 51]\n",
      "\u001b[KComputing only nucleotide (and not protein) signatures.\n",
      "\u001b[KComputing a total of 3 signature(s).\n",
      "\u001b[K... reading sequences from genomes/akkermansia.fa\n",
      "\u001b[Kcalculated 3 signatures for 1 sequences in genomes/akkermansia.fa\n",
      "\u001b[Ksaved 3 signature(s). Note: signature license is CC0.\n",
      "\u001b[K... reading sequences from genomes/shew_os185.fa\n",
      "\u001b[Kcalculated 3 signatures for 1 sequences in genomes/shew_os185.fa\n",
      "\u001b[Ksaved 3 signature(s). Note: signature license is CC0.\n",
      "\u001b[K... reading sequences from genomes/shew_os223.fa\n",
      "\u001b[Kcalculated 3 signatures for 1 sequences in genomes/shew_os223.fa\n",
      "\u001b[Ksaved 3 signature(s). Note: signature license is CC0.\n"
     ]
    }
   ],
   "source": [
    "!sourmash compute -k 21,31,51 --scaled=1000 genomes/*.fa --name-from-first -f"
   ]
  },
  {
   "cell_type": "markdown",
   "metadata": {},
   "source": [
    "## Search multiple signatures with a query"
   ]
  },
  {
   "cell_type": "code",
   "execution_count": 16,
   "metadata": {},
   "outputs": [
    {
     "name": "stdout",
     "output_type": "stream",
     "text": [
      "\u001b[K== This is sourmash version 2.0.0a12.dev48+ga92289b. ==\n",
      "\u001b[K== Please cite Brown and Irber (2016), doi:10.21105/joss.00027. ==\n",
      "\n",
      "\u001b[Kloaded query: NC_011663.1 Shewanella baltica... (k=31, DNA)\n",
      "\u001b[Kloaded 3 signatures.                                                           \n",
      "\n",
      "2 matches:\n",
      "similarity   match\n",
      "----------   -----\n",
      "100.0%       NC_011663.1 Shewanella baltica OS223, complete genome\n",
      " 22.8%       NC_009665.1 Shewanella baltica OS185, complete genome\n"
     ]
    }
   ],
   "source": [
    "!sourmash search -k 31 shew_os223.fa.sig *.sig"
   ]
  },
  {
   "cell_type": "code",
   "execution_count": 17,
   "metadata": {},
   "outputs": [
    {
     "name": "stdout",
     "output_type": "stream",
     "text": [
      "\u001b[K== This is sourmash version 2.0.0a12.dev48+ga92289b. ==\n",
      "\u001b[K== Please cite Brown and Irber (2016), doi:10.21105/joss.00027. ==\n",
      "\n",
      "\u001b[Kloaded query: NC_011663.1 Shewanella baltica... (k=31, DNA)\n",
      "\u001b[Kloaded 3 signatures.                                                           \n",
      "\n",
      "2 matches:\n",
      "similarity   match\n",
      "----------   -----\n",
      "100.0%       NC_011663.1 Shewanella baltica OS223, complete genome\n",
      " 37.3%       NC_009665.1 Shewanella baltica OS185, complete genome\n"
     ]
    }
   ],
   "source": [
    "!sourmash search -k 31 shew_os223.fa.sig *.sig --containment"
   ]
  },
  {
   "cell_type": "markdown",
   "metadata": {},
   "source": [
    "## Performing all-by-all queries"
   ]
  },
  {
   "cell_type": "code",
   "execution_count": 18,
   "metadata": {},
   "outputs": [
    {
     "name": "stdout",
     "output_type": "stream",
     "text": [
      "\u001b[K== This is sourmash version 2.0.0a12.dev48+ga92289b. ==\n",
      "\u001b[K== Please cite Brown and Irber (2016), doi:10.21105/joss.00027. ==\n",
      "\n",
      "\u001b[Kloaded 3 signatures total.                                                     \n",
      "\u001b[Kdownsampling to scaled value of 1000\n",
      "\u001b[K\n",
      "0-CP001071.1 Akke...\t[1. 0. 0.]\n",
      "1-NC_009665.1 She...\t[0.    1.    0.228]\n",
      "2-NC_011663.1 She...\t[0.    0.228 1.   ]\n",
      "min similarity in matrix: 0.000\n"
     ]
    }
   ],
   "source": [
    "!sourmash compare -k 31 *.sig"
   ]
  },
  {
   "cell_type": "code",
   "execution_count": 19,
   "metadata": {},
   "outputs": [
    {
     "name": "stdout",
     "output_type": "stream",
     "text": [
      "\u001b[K== This is sourmash version 2.0.0a12.dev48+ga92289b. ==\n",
      "\u001b[K== Please cite Brown and Irber (2016), doi:10.21105/joss.00027. ==\n",
      "\n",
      "\u001b[Kloaded 3 signatures total.                                                     \n",
      "\u001b[Kdownsampling to scaled value of 1000\n",
      "\u001b[K\n",
      "0-CP001071.1 Akke...\t[1. 0. 0.]\n",
      "1-NC_009665.1 She...\t[0.    1.    0.228]\n",
      "2-NC_011663.1 She...\t[0.    0.228 1.   ]\n",
      "min similarity in matrix: 0.000\n",
      "\u001b[Ksaving labels to: genome_compare.mat.labels.txt\n",
      "\u001b[Ksaving distance matrix to: genome_compare.mat\n"
     ]
    }
   ],
   "source": [
    "!sourmash compare -k 31 *.sig -o genome_compare.mat"
   ]
  },
  {
   "cell_type": "code",
   "execution_count": 20,
   "metadata": {},
   "outputs": [
    {
     "name": "stdout",
     "output_type": "stream",
     "text": [
      "\u001b[K== This is sourmash version 2.0.0a12.dev48+ga92289b. ==\n",
      "\u001b[K== Please cite Brown and Irber (2016), doi:10.21105/joss.00027. ==\n",
      "\n",
      "\u001b[Kloaded 3 signatures total.                                                     \n",
      "\u001b[Kdownsampling to scaled value of 1000\n",
      "\u001b[K\n",
      "0-CP001071.1 Akke...\t[1. 0. 0.]\n",
      "1-NC_009665.1 She...\t[0.    1.    0.228]\n",
      "2-NC_011663.1 She...\t[0.    0.228 1.   ]\n",
      "min similarity in matrix: 0.000\n"
     ]
    }
   ],
   "source": [
    "!sourmash compare -k 31 *.sig --csv genome_compare.csv"
   ]
  },
  {
   "cell_type": "code",
   "execution_count": 21,
   "metadata": {},
   "outputs": [
    {
     "name": "stdout",
     "output_type": "stream",
     "text": [
      "\"CP001071.1 Akkermansia muciniphila ATCC BAA-835, complete genome\",\"NC_009665.1 Shewanella baltica OS185, complete genome\",\"NC_011663.1 Shewanella baltica OS223, complete genome\"\r",
      "\r\n",
      "1.0,0.0,0.0\r\n",
      "0.0,1.0,0.22846441947565543\r\n",
      "0.0,0.22846441947565543,1.0\r\n"
     ]
    }
   ],
   "source": [
    "!cat genome_compare.csv"
   ]
  },
  {
   "cell_type": "code",
   "execution_count": 22,
   "metadata": {},
   "outputs": [],
   "source": [
    "# (do plot here)"
   ]
  },
  {
   "cell_type": "markdown",
   "metadata": {},
   "source": [
    "## Searching all of genbank with a query"
   ]
  },
  {
   "cell_type": "code",
   "execution_count": null,
   "metadata": {},
   "outputs": [],
   "source": [
    "# (building your own gather and lca databases)"
   ]
  },
  {
   "cell_type": "code",
   "execution_count": 23,
   "metadata": {},
   "outputs": [
    {
     "name": "stdout",
     "output_type": "stream",
     "text": [
      "  % Total    % Received % Xferd  Average Speed   Time    Time     Time  Current\n",
      "                                 Dload  Upload   Total   Spent    Left  Speed\n",
      "100   459  100   459    0     0   1206      0 --:--:-- --:--:-- --:--:--  1207\n",
      "100  119M  100  119M    0     0  2211k      0  0:00:55  0:00:55 --:--:-- 2308k14.1M    0     0  1621k      0  0:01:15  0:00:08  0:01:07 2333k7.5M    0     0  2142k      0  0:00:57  0:00:17  0:00:40 2827k03k      0  0:00:55  0:00:50  0:00:05 2134k\n"
     ]
    }
   ],
   "source": [
    "#!curl -L https://osf.io/4f8n3/download -o genbank.k31.lca.json.gz"
   ]
  },
  {
   "cell_type": "code",
   "execution_count": 25,
   "metadata": {},
   "outputs": [
    {
     "name": "stdout",
     "output_type": "stream",
     "text": [
      "\u001b[K== This is sourmash version 2.0.0a12.dev48+ga92289b. ==\n",
      "\u001b[K== Please cite Brown and Irber (2016), doi:10.21105/joss.00027. ==\n",
      "\n",
      "\u001b[Kselecting default query k=31.\n",
      "\u001b[Kloaded query: NC_009665.1 Shewanella baltica... (k=31, DNA)\n",
      "\u001b[Kloaded 1 databases.                                                            \n",
      "\n",
      "11 matches; showing first 3:\n",
      "similarity   match\n",
      "----------   -----\n",
      "100.0%       CP000753.1 Shewanella baltica OS185, complete genome\n",
      " 70.6%       CP002383.1 Shewanella baltica OS678, complete genome\n",
      " 70.6%       CP000891.1 Shewanella baltica OS195, complete genome\n"
     ]
    }
   ],
   "source": [
    "!sourmash search --containment -n 3 shew_os185.fa.sig genbank.k31.lca.json.gz"
   ]
  },
  {
   "cell_type": "markdown",
   "metadata": {},
   "source": [
    "## Shared k-mers"
   ]
  },
  {
   "cell_type": "markdown",
   "metadata": {},
   "source": [
    "## (Optional) k-mer trimming of Illumina reads"
   ]
  },
  {
   "cell_type": "code",
   "execution_count": null,
   "metadata": {},
   "outputs": [],
   "source": []
  }
 ],
 "metadata": {
  "kernelspec": {
   "display_name": "Python 3",
   "language": "python",
   "name": "python3"
  },
  "language_info": {
   "codemirror_mode": {
    "name": "ipython",
    "version": 3
   },
   "file_extension": ".py",
   "mimetype": "text/x-python",
   "name": "python",
   "nbconvert_exporter": "python",
   "pygments_lexer": "ipython3",
   "version": "3.6.7"
  }
 },
 "nbformat": 4,
 "nbformat_minor": 2
}
