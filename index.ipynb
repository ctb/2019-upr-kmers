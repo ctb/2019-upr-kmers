{
 "cells": [
  {
   "cell_type": "markdown",
   "metadata": {},
   "source": [
    "# Some k-mer and hashing tutorials!\n",
    "\n",
    "[K-mers and hashing - introduction!](kmers-and-minhash.ipynb)\n",
    "\n",
    "[Sourmash: an introduction and some examples](sourmash-examples.ipynb)\n",
    "\n",
    "[Working with collections of genomes in sourmash](sourmash-collections.ipynb)"
   ]
  }
 ],
 "metadata": {
  "kernelspec": {
   "display_name": "Python 3",
   "language": "python",
   "name": "python3"
  },
  "language_info": {
   "codemirror_mode": {
    "name": "ipython",
    "version": 3
   },
   "file_extension": ".py",
   "mimetype": "text/x-python",
   "name": "python",
   "nbconvert_exporter": "python",
   "pygments_lexer": "ipython3",
   "version": "3.6.7"
  }
 },
 "nbformat": 4,
 "nbformat_minor": 2
}
