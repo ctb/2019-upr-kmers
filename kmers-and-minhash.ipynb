{
 "cells": [
  {
   "cell_type": "markdown",
   "metadata": {},
   "source": [
    "# K-mer comparisons!"
   ]
  },
  {
   "cell_type": "markdown",
   "metadata": {},
   "source": [
    "This is a Jupyter Notebook using Python 3. You can use Shift-ENTER to run cells, and double click on code cells to edit them.\n",
    "\n",
    "Contact: C. Titus Brown, ctbrown@ucdavis.edu"
   ]
  },
  {
   "cell_type": "markdown",
   "metadata": {},
   "source": [
    "## Calculating Jaccard similarity and containment\n",
    "\n",
    "Given any two collections of k-mers, we can calculate similarity and containment using the union and intersection functionality in Python."
   ]
  },
  {
   "cell_type": "code",
   "execution_count": null,
   "metadata": {},
   "outputs": [],
   "source": [
    "def jaccard_similarity(a, b):\n",
    "    a = set(a)\n",
    "    b = set(b)\n",
    "    \n",
    "    intersection = len(a.intersection(b))\n",
    "    union = len(a.union(b))\n",
    "    \n",
    "    return intersection / union"
   ]
  },
  {
   "cell_type": "code",
   "execution_count": null,
   "metadata": {},
   "outputs": [],
   "source": [
    "def jaccard_containment(a, b):\n",
    "    a = set(a)\n",
    "    b = set(b)\n",
    "    \n",
    "    intersection = len(a.intersection(b))\n",
    "    \n",
    "    return intersection / len(a)"
   ]
  },
  {
   "cell_type": "markdown",
   "metadata": {},
   "source": [
    "## Let's try these functions out on some simple examples!"
   ]
  },
  {
   "cell_type": "code",
   "execution_count": null,
   "metadata": {},
   "outputs": [],
   "source": [
    "a = ['ATGG', 'AACC']\n",
    "b = ['ATGG', 'CACA']\n",
    "c = ['ATGC', 'CACA']"
   ]
  },
  {
   "cell_type": "code",
   "execution_count": null,
   "metadata": {},
   "outputs": [],
   "source": [
    "jaccard_similarity(a, a)"
   ]
  },
  {
   "cell_type": "code",
   "execution_count": null,
   "metadata": {},
   "outputs": [],
   "source": [
    "jaccard_containment(a, a)"
   ]
  },
  {
   "cell_type": "code",
   "execution_count": null,
   "metadata": {},
   "outputs": [],
   "source": [
    "jaccard_similarity(b, a)"
   ]
  },
  {
   "cell_type": "code",
   "execution_count": null,
   "metadata": {},
   "outputs": [],
   "source": [
    "jaccard_similarity(a, c)"
   ]
  },
  {
   "cell_type": "code",
   "execution_count": null,
   "metadata": {},
   "outputs": [],
   "source": [
    "jaccard_containment(b, a)"
   ]
  },
  {
   "cell_type": "code",
   "execution_count": null,
   "metadata": {},
   "outputs": [],
   "source": [
    "%matplotlib inline\n",
    "from matplotlib_venn import venn2, venn3\n",
    "\n",
    "venn2([set(a), set(b)])"
   ]
  },
  {
   "cell_type": "code",
   "execution_count": null,
   "metadata": {},
   "outputs": [],
   "source": [
    "venn3([set(a), set(b), set(c)])"
   ]
  },
  {
   "cell_type": "markdown",
   "metadata": {},
   "source": [
    "## Calculating k-mers from DNA sequences\n",
    "\n",
    "To extract k-mers from DNA sequences, we walk over the sequence with a sliding window:"
   ]
  },
  {
   "cell_type": "code",
   "execution_count": null,
   "metadata": {},
   "outputs": [],
   "source": [
    "def build_kmers(sequence, ksize):\n",
    "    kmers = []\n",
    "    n_kmers = len(sequence) - ksize + 1\n",
    "    \n",
    "    for i in range(n_kmers):\n",
    "        kmer = sequence[i:i + ksize]\n",
    "        kmers.append(kmer)\n",
    "        \n",
    "    return kmers"
   ]
  },
  {
   "cell_type": "code",
   "execution_count": null,
   "metadata": {},
   "outputs": [],
   "source": [
    "build_kmers('ATGGACCAGATATAGGGAGAGCCAGGTAGGACA', 21)"
   ]
  },
  {
   "cell_type": "markdown",
   "metadata": {},
   "source": [
    "In the k-mers that are output, you can see how the sequence shifts to the right - look at the pattern in the middle.\n",
    "\n",
    "So, now, you can compare two sequences!"
   ]
  },
  {
   "cell_type": "code",
   "execution_count": null,
   "metadata": {},
   "outputs": [],
   "source": [
    "seq1 = 'ATGGACCAGATATAGGGAGAGCCAGGTAGGACA'\n",
    "seq2 = 'ATGGACCAGATATTGGGAGAGCCGGGTAGGACA'\n",
    "# differences:       ^         ^"
   ]
  },
  {
   "cell_type": "code",
   "execution_count": null,
   "metadata": {},
   "outputs": [],
   "source": [
    "K = 10\n",
    "kmers1 = build_kmers(seq1, K)\n",
    "kmers2 = build_kmers(seq2, K)\n",
    "\n",
    "print(K, jaccard_similarity(kmers1, kmers2))"
   ]
  },
  {
   "cell_type": "markdown",
   "metadata": {},
   "source": [
    "## Exercise: what happens to Jaccard similarity as you increase or decrease K?"
   ]
  },
  {
   "cell_type": "code",
   "execution_count": null,
   "metadata": {},
   "outputs": [],
   "source": [
    "K = 10\n",
    "kmers1 = build_kmers(seq1, K)\n",
    "kmers2 = build_kmers(seq2, K)\n",
    "\n",
    "print(K, jaccard_similarity(kmers1, kmers2))"
   ]
  },
  {
   "cell_type": "markdown",
   "metadata": {},
   "source": [
    "## Reading k-mers in from a file\n",
    "\n",
    "In practice, we often need to work with 100s of thousands of k-mers, and this means loading them in from sequences in files.\n",
    "\n",
    "There are three cut-down genome files in the `genomes/` directory that we will use below:\n",
    "\n",
    "```\n",
    "akkermansia.fa\n",
    "shew_os185.fa\n",
    "shew_os223.fa\n",
    "```\n",
    "The latter two are two strains of *Shewanella baltica*, and the first one is an unrelated genome *Akkermansia muciniphila*."
   ]
  },
  {
   "cell_type": "code",
   "execution_count": null,
   "metadata": {},
   "outputs": [],
   "source": [
    "import screed # a library for reading in FASTA/FASTQ\n",
    "\n",
    "def read_kmers_from_file(filename, ksize):\n",
    "    all_kmers = []\n",
    "    for record in screed.open(filename):\n",
    "        sequence = record.sequence\n",
    "        \n",
    "        kmers = build_kmers(sequence, ksize)\n",
    "        all_kmers += kmers\n",
    "\n",
    "    return all_kmers"
   ]
  },
  {
   "cell_type": "code",
   "execution_count": null,
   "metadata": {},
   "outputs": [],
   "source": [
    "akker_kmers = read_kmers_from_file('genomes/akkermansia.fa', 31)"
   ]
  },
  {
   "cell_type": "code",
   "execution_count": null,
   "metadata": {},
   "outputs": [],
   "source": [
    "akker_kmers[:5]"
   ]
  },
  {
   "cell_type": "code",
   "execution_count": null,
   "metadata": {},
   "outputs": [],
   "source": [
    "print(len(akker_kmers))"
   ]
  },
  {
   "cell_type": "code",
   "execution_count": null,
   "metadata": {},
   "outputs": [],
   "source": [
    "shew1_kmers = read_kmers_from_file('genomes/shew_os185.fa', 31)\n",
    "shew2_kmers = read_kmers_from_file('genomes/shew_os223.fa', 31)"
   ]
  },
  {
   "cell_type": "markdown",
   "metadata": {},
   "source": [
    "We can see the relationship between these three like so:"
   ]
  },
  {
   "cell_type": "code",
   "execution_count": null,
   "metadata": {},
   "outputs": [],
   "source": [
    "print('akker vs shew1', jaccard_similarity(akker_kmers, shew1_kmers))\n",
    "print('akker vs shew2', jaccard_similarity(akker_kmers, shew2_kmers))\n",
    "print('shew1 vs shew2', jaccard_similarity(shew1_kmers, shew2_kmers))"
   ]
  },
  {
   "cell_type": "code",
   "execution_count": null,
   "metadata": {},
   "outputs": [],
   "source": [
    "print('akker vs shew1', jaccard_containment(akker_kmers, shew1_kmers))\n",
    "print('akker vs shew2', jaccard_containment(akker_kmers, shew2_kmers))\n",
    "print('shew1 vs shew2', jaccard_containment(shew1_kmers, shew2_kmers))"
   ]
  },
  {
   "cell_type": "code",
   "execution_count": null,
   "metadata": {},
   "outputs": [],
   "source": [
    "venn3([set(akker_kmers), set(shew1_kmers), set(shew2_kmers)])"
   ]
  },
  {
   "cell_type": "markdown",
   "metadata": {},
   "source": [
    "## Exercise: how do the above numbers change when you change ksize?"
   ]
  },
  {
   "cell_type": "code",
   "execution_count": null,
   "metadata": {},
   "outputs": [],
   "source": [
    "K = 31\n",
    "shew1_test = read_kmers_from_file('genomes/shew_os185.fa', K)\n",
    "shew2_test = read_kmers_from_file('genomes/shew_os223.fa', K)\n",
    "\n",
    "print('similarity, shew1 vs shew2', jaccard_similarity(shew1_test, shew2_test))\n",
    "print('containment, shew1 vs shew2', jaccard_containment(shew1_test, shew2_test))"
   ]
  },
  {
   "cell_type": "markdown",
   "metadata": {},
   "source": [
    "# Let's hash!"
   ]
  },
  {
   "cell_type": "markdown",
   "metadata": {},
   "source": [
    "## Choose a hash function!\n",
    "\n",
    "We need to pick a hash function that takes DNA k-mers and converts them into numbers.\n",
    "\n",
    "Both the [mash](https://mash.readthedocs.io/en/latest/) software for MinHash, and the [sourmash](https://sourmash.readthedocs.io) software for modulo and MinHash, use MurmurHash:\n",
    "\n",
    "https://en.wikipedia.org/wiki/MurmurHash\n",
    "\n",
    "this is implemented in the 'mmh3' library in Python.\n",
    "\n",
    "The other thing we need to do here is take into account the fact that DNA is double stranded, and so\n",
    "\n",
    "```\n",
    "hash_kmer('ATGG')\n",
    "```\n",
    "should be equivalent to\n",
    "```\n",
    "hash_kmer('CCAT')\n",
    "```\n",
    "Following mash's lead, for every input k-mer we will choose a *canonical* k-mer that is the lesser of the k-mer and its reverse complement."
   ]
  },
  {
   "cell_type": "code",
   "execution_count": null,
   "metadata": {},
   "outputs": [],
   "source": [
    "import mmh3\n",
    "\n",
    "def hash_kmer(kmer):\n",
    "    # calculate the reverse complement\n",
    "    rc_kmer = screed.rc(kmer)\n",
    "    \n",
    "    # determine whether original k-mer or reverse complement is lesser\n",
    "    if kmer < rc_kmer:\n",
    "        canonical_kmer = kmer\n",
    "    else:\n",
    "        canonical_kmer = rc_kmer\n",
    "        \n",
    "    # calculate murmurhash using a hash seed of 42\n",
    "    hash = mmh3.hash64(canonical_kmer, 42)[0]\n",
    "    if hash < 0: hash += 2**64\n",
    "        \n",
    "    # done\n",
    "    return hash"
   ]
  },
  {
   "cell_type": "markdown",
   "metadata": {},
   "source": [
    "This is now a function that we can use to turn any DNA \"word\" into a number:"
   ]
  },
  {
   "cell_type": "code",
   "execution_count": null,
   "metadata": {},
   "outputs": [],
   "source": [
    "hash_kmer('ATGGC')"
   ]
  },
  {
   "cell_type": "markdown",
   "metadata": {},
   "source": [
    "The same input word always returns the same number:"
   ]
  },
  {
   "cell_type": "code",
   "execution_count": null,
   "metadata": {},
   "outputs": [],
   "source": [
    "hash_kmer('ATGGC')"
   ]
  },
  {
   "cell_type": "markdown",
   "metadata": {},
   "source": [
    "as does its reverse complement:"
   ]
  },
  {
   "cell_type": "code",
   "execution_count": null,
   "metadata": {},
   "outputs": [],
   "source": [
    "hash_kmer('GCCAT')"
   ]
  },
  {
   "cell_type": "markdown",
   "metadata": {},
   "source": [
    "and nearby words return very different numbers:"
   ]
  },
  {
   "cell_type": "code",
   "execution_count": null,
   "metadata": {},
   "outputs": [],
   "source": [
    "hash_kmer('GCCAA')"
   ]
  },
  {
   "cell_type": "markdown",
   "metadata": {},
   "source": [
    "## Note that hashing collections of k-mers doesn't change Jaccard calculations:"
   ]
  },
  {
   "cell_type": "code",
   "execution_count": null,
   "metadata": {},
   "outputs": [],
   "source": [
    "def hash_kmers(kmers):\n",
    "    hashes = []\n",
    "    for kmer in kmers:\n",
    "        hashes.append(hash_kmer(kmer))\n",
    "    return hashes"
   ]
  },
  {
   "cell_type": "code",
   "execution_count": null,
   "metadata": {},
   "outputs": [],
   "source": [
    "shew1_hashes = hash_kmers(shew1_kmers)\n",
    "shew2_hashes = hash_kmers(shew2_kmers)"
   ]
  },
  {
   "cell_type": "code",
   "execution_count": null,
   "metadata": {},
   "outputs": [],
   "source": [
    "print(jaccard_similarity(shew1_kmers, shew2_kmers))"
   ]
  },
  {
   "cell_type": "code",
   "execution_count": null,
   "metadata": {},
   "outputs": [],
   "source": [
    "print(jaccard_similarity(shew1_hashes, shew2_hashes))"
   ]
  },
  {
   "cell_type": "markdown",
   "metadata": {},
   "source": [
    "(ok, it changes it a little, because of the canonical k-mer calculation!)"
   ]
  },
  {
   "cell_type": "markdown",
   "metadata": {},
   "source": [
    "## Implementing subsampling with modulo hashing\n",
    "\n",
    "We are now ready to implement k-mer subsampling with modulo hash.\n",
    "\n",
    "We need to pick a sampling rate, and know the maximum possible hash value.\n",
    "\n",
    "For a sampling rate, let's start with 1000.\n",
    "\n",
    "The MurmurHash function turns k-mers into numbers between 0 and `2**64 - 1` (the maximum 64-bit number).\n",
    "\n",
    "Let's define these as variables:"
   ]
  },
  {
   "cell_type": "code",
   "execution_count": null,
   "metadata": {},
   "outputs": [],
   "source": [
    "scaled = 1000\n",
    "MAX_HASH = 2**64"
   ]
  },
  {
   "cell_type": "markdown",
   "metadata": {},
   "source": [
    "Now, choose the range of hash values that we'll keep."
   ]
  },
  {
   "cell_type": "code",
   "execution_count": null,
   "metadata": {},
   "outputs": [],
   "source": [
    "keep_below = MAX_HASH / scaled\n",
    "print(keep_below)"
   ]
  },
  {
   "cell_type": "markdown",
   "metadata": {},
   "source": [
    "and write a filter function:"
   ]
  },
  {
   "cell_type": "code",
   "execution_count": null,
   "metadata": {},
   "outputs": [],
   "source": [
    "def subsample_modulo(kmers):\n",
    "    keep = []\n",
    "    for kmer in kmers:\n",
    "        if hash_kmer(kmer) < keep_below:\n",
    "            keep.append(kmer)\n",
    "        # otherwise, discard\n",
    "        \n",
    "    return keep"
   ]
  },
  {
   "cell_type": "markdown",
   "metadata": {},
   "source": [
    "## Now let's apply this to our big collections of k-mers!"
   ]
  },
  {
   "cell_type": "code",
   "execution_count": null,
   "metadata": {},
   "outputs": [],
   "source": [
    "akker_sub = subsample_modulo(akker_kmers)\n",
    "shew1_sub = subsample_modulo(shew1_kmers)\n",
    "shew2_sub = subsample_modulo(shew2_kmers)"
   ]
  },
  {
   "cell_type": "code",
   "execution_count": null,
   "metadata": {},
   "outputs": [],
   "source": [
    "print(len(akker_kmers), len(akker_sub))\n",
    "print(len(shew1_kmers), len(shew1_sub))\n",
    "print(len(shew2_kmers), len(shew2_sub))"
   ]
  },
  {
   "cell_type": "markdown",
   "metadata": {},
   "source": [
    "So we go from ~500,000 k-mers to ~500 hashes! Do the Jaccard calculations change??"
   ]
  },
  {
   "cell_type": "code",
   "execution_count": null,
   "metadata": {},
   "outputs": [],
   "source": [
    "print('akker vs akker, total', jaccard_similarity(akker_kmers, akker_kmers))\n",
    "print('akker vs akker, sub', jaccard_similarity(akker_sub, akker_sub))"
   ]
  },
  {
   "cell_type": "code",
   "execution_count": null,
   "metadata": {},
   "outputs": [],
   "source": [
    "print('akker vs shew1, total', jaccard_similarity(akker_kmers, shew1_kmers))\n",
    "print('akker vs shew1, sub', jaccard_similarity(akker_sub, shew1_sub))"
   ]
  },
  {
   "cell_type": "code",
   "execution_count": null,
   "metadata": {},
   "outputs": [],
   "source": [
    "print('shew1 vs shew2, total', jaccard_similarity(shew1_kmers, shew2_kmers))\n",
    "print('shew1 vs shew2, sub', jaccard_similarity(shew1_sub, shew2_sub))"
   ]
  },
  {
   "cell_type": "markdown",
   "metadata": {},
   "source": [
    "And you can see that the numbers are different, but not very much - the Jaccard similarity is being *estimated*, so it is not exact but it is close."
   ]
  },
  {
   "cell_type": "markdown",
   "metadata": {},
   "source": [
    "## Let's visualize --"
   ]
  },
  {
   "cell_type": "code",
   "execution_count": null,
   "metadata": {},
   "outputs": [],
   "source": [
    "venn3([set(akker_kmers), set(shew1_kmers), set(shew2_kmers)])"
   ]
  },
  {
   "cell_type": "code",
   "execution_count": null,
   "metadata": {},
   "outputs": [],
   "source": [
    "venn3([set(akker_sub), set(shew1_sub), set(shew2_sub)])"
   ]
  },
  {
   "cell_type": "markdown",
   "metadata": {},
   "source": [
    "## Exercise: does all this work for Jaccard containment, too?"
   ]
  },
  {
   "cell_type": "code",
   "execution_count": null,
   "metadata": {},
   "outputs": [],
   "source": []
  }
 ],
 "metadata": {
  "kernelspec": {
   "display_name": "Python 3",
   "language": "python",
   "name": "python3"
  },
  "language_info": {
   "codemirror_mode": {
    "name": "ipython",
    "version": 3
   },
   "file_extension": ".py",
   "mimetype": "text/x-python",
   "name": "python",
   "nbconvert_exporter": "python",
   "pygments_lexer": "ipython3",
   "version": "3.6.7"
  }
 },
 "nbformat": 4,
 "nbformat_minor": 2
}
